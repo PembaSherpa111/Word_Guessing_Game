{
 "cells": [
  {
   "cell_type": "code",
   "execution_count": 13,
   "metadata": {},
   "outputs": [
    {
     "name": "stdout",
     "output_type": "stream",
     "text": [
      " \n"
     ]
    }
   ],
   "source": [
    "import random\n",
    "word = ['random']\n",
    "file_path = (r'words_dictionary.json')\n",
    "f = open('words_dictionary.json')\n",
    "dictionary = f.read()\n",
    "word = random.choice(dictionary)\n",
    "f.close()\n",
    "\n",
    "print(word)\n"
   ]
  },
  {
   "cell_type": "code",
   "execution_count": 20,
   "metadata": {},
   "outputs": [
    {
     "ename": "AttributeError",
     "evalue": "'str' object has no attribute 'foramt'",
     "output_type": "error",
     "traceback": [
      "\u001b[1;31m---------------------------------------------------------------------------\u001b[0m",
      "\u001b[1;31mAttributeError\u001b[0m                            Traceback (most recent call last)",
      "\u001b[1;32m~\\AppData\\Local\\Temp/ipykernel_17940/2985745805.py\u001b[0m in \u001b[0;36m<module>\u001b[1;34m\u001b[0m\n\u001b[0;32m     23\u001b[0m             \u001b[0mnum_of_guess\u001b[0m \u001b[1;33m=\u001b[0m \u001b[0mnum_of_guess\u001b[0m \u001b[1;33m-\u001b[0m \u001b[1;36m1\u001b[0m\u001b[1;33m\u001b[0m\u001b[1;33m\u001b[0m\u001b[0m\n\u001b[0;32m     24\u001b[0m         \u001b[1;32melse\u001b[0m\u001b[1;33m:\u001b[0m\u001b[1;33m\u001b[0m\u001b[1;33m\u001b[0m\u001b[0m\n\u001b[1;32m---> 25\u001b[1;33m             \u001b[1;34m\"{0:0>len(random_word)}\"\u001b[0m\u001b[1;33m.\u001b[0m\u001b[0mforamt\u001b[0m\u001b[1;33m(\u001b[0m\u001b[0mguess\u001b[0m\u001b[1;33m)\u001b[0m\u001b[1;33m\u001b[0m\u001b[1;33m\u001b[0m\u001b[0m\n\u001b[0m\u001b[0;32m     26\u001b[0m \u001b[1;32mif\u001b[0m \u001b[0mnum_of_guess\u001b[0m \u001b[1;33m==\u001b[0m \u001b[1;36m0\u001b[0m\u001b[1;33m:\u001b[0m\u001b[1;33m\u001b[0m\u001b[1;33m\u001b[0m\u001b[0m\n\u001b[0;32m     27\u001b[0m     \u001b[0mprint\u001b[0m\u001b[1;33m(\u001b[0m\u001b[1;34m'You Lose!'\u001b[0m\u001b[1;33m)\u001b[0m\u001b[1;33m\u001b[0m\u001b[1;33m\u001b[0m\u001b[0m\n",
      "\u001b[1;31mAttributeError\u001b[0m: 'str' object has no attribute 'foramt'"
     ]
    }
   ],
   "source": [
    "%reset -f\n",
    "import random\n",
    "word = ['hat', 'cat', 'rat', 'mouse', 'elephant', 'whale' ]\n",
    "random_word = random.choice(word)\n",
    "\n",
    "num_of_guess = 7\n",
    "#is_letter = True\n",
    "\n",
    "while num_of_guess > 0:\n",
    "    #while is_letter == False:\n",
    "    guess = str(input('Enter your guess: '))\n",
    "        #is_letter = guess.isalpha\n",
    "\n",
    "    if len(guess) > 1:\n",
    "        if guess == random_word:\n",
    "            print('You Win!')\n",
    "            break\n",
    "        else:\n",
    "            num_of_guess = num_of_guess - 1\n",
    "    else:\n",
    "        index = random_word.find(guess)\n",
    "        if index == -1:\n",
    "            num_of_guess = num_of_guess - 1\n",
    "        #else:\n",
    "            \n",
    "if num_of_guess == 0:\n",
    "    print('You Lose!')"
   ]
  }
 ],
 "metadata": {
  "interpreter": {
   "hash": "2647ea34e536f865ab67ff9ddee7fd78773d956cec0cab53c79b32cd10da5d83"
  },
  "kernelspec": {
   "display_name": "Python 3.9.1 64-bit",
   "language": "python",
   "name": "python3"
  },
  "language_info": {
   "codemirror_mode": {
    "name": "ipython",
    "version": 3
   },
   "file_extension": ".py",
   "mimetype": "text/x-python",
   "name": "python",
   "nbconvert_exporter": "python",
   "pygments_lexer": "ipython3",
   "version": "3.9.1"
  },
  "orig_nbformat": 4
 },
 "nbformat": 4,
 "nbformat_minor": 2
}
