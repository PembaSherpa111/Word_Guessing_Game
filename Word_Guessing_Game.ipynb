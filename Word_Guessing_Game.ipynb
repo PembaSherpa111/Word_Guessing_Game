{
 "cells": [
  {
   "cell_type": "code",
   "execution_count": 13,
   "metadata": {},
   "outputs": [
    {
     "name": "stdout",
     "output_type": "stream",
     "text": [
      " \n"
     ]
    }
   ],
   "source": [
    "import random\n",
    "word = ['random']\n",
    "file_path = (r'words_dictionary.json')\n",
    "f = open('words_dictionary.json')\n",
    "dictionary = f.read()\n",
    "word = random.choice(dictionary)\n",
    "f.close()\n",
    "\n",
    "print(word)\n"
   ]
  },
  {
   "cell_type": "code",
   "execution_count": 65,
   "metadata": {},
   "outputs": [
    {
     "name": "stdout",
     "output_type": "stream",
     "text": [
      "--------\n",
      "e\n",
      "e-e-----\n",
      "l\n",
      "ele-----\n",
      "h\n",
      "ele-h---\n",
      "a\n",
      "ele-ha--\n",
      "n\n",
      "ele-han-\n",
      "t\n",
      "ele-hant\n",
      "p\n",
      "elephant\n",
      "You Win!\n"
     ]
    }
   ],
   "source": [
    "%reset -f\n",
    "import random\n",
    "word = ['elephant','mississippi', 'alaska']\n",
    "random_word = random.choice(word)\n",
    "\n",
    "num_of_guess = 7\n",
    "is_letter = False\n",
    "guess = 'aa'\n",
    "\n",
    "guessed_word = ('-' * len(random_word))\n",
    "print(guessed_word)\n",
    "\n",
    "while num_of_guess > 0:\n",
    "    while is_letter == False:\n",
    "        guess = input('Enter your guess: ')\n",
    "        is_letter = guess.isalpha()\n",
    "\n",
    "    if len(guess) > 1:\n",
    "        if guess.lower() == random_word.lower():\n",
    "            print (guess.lower())\n",
    "            print('You Win!')\n",
    "            break\n",
    "        else:\n",
    "            num_of_guess = num_of_guess - 1\n",
    "    else:\n",
    "        index = random_word.find(guess.lower())\n",
    "        if index == -1:\n",
    "            num_of_guess = num_of_guess - 1\n",
    "        else:\n",
    "            for i,x in enumerate(random_word):\n",
    "                if x == guess.lower():\n",
    "                    guessed_word = guessed_word[:i] + guess.lower() + guessed_word[i+1:]\n",
    "            print(guessed_word)\n",
    "            if guessed_word == random_word:\n",
    "                print('You Win!')\n",
    "                break\n",
    "    \n",
    "    is_letter = False\n",
    "\n",
    "if num_of_guess == 0:\n",
    "    print('You Lose!')"
   ]
  }
 ],
 "metadata": {
  "interpreter": {
   "hash": "2647ea34e536f865ab67ff9ddee7fd78773d956cec0cab53c79b32cd10da5d83"
  },
  "kernelspec": {
   "display_name": "Python 3.9.1 64-bit",
   "language": "python",
   "name": "python3"
  },
  "language_info": {
   "codemirror_mode": {
    "name": "ipython",
    "version": 3
   },
   "file_extension": ".py",
   "mimetype": "text/x-python",
   "name": "python",
   "nbconvert_exporter": "python",
   "pygments_lexer": "ipython3",
   "version": "3.9.1"
  },
  "orig_nbformat": 4
 },
 "nbformat": 4,
 "nbformat_minor": 2
}
